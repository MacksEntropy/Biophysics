{
 "cells": [
  {
   "cell_type": "code",
   "execution_count": 1,
   "id": "1ab7b1af",
   "metadata": {},
   "outputs": [],
   "source": [
    "import numpy as np\n",
    "import matplotlib.pyplot as plt\n",
    "import pylab\n",
    "import random"
   ]
  },
  {
   "cell_type": "markdown",
   "id": "d1704b31",
   "metadata": {},
   "source": [
    "Many macromolecules have multiple conformations that are local minima of their (free) egery function. In this problem, you'll model such situations and look at spontaneous (thermally induced) transitions between such ``metastable\" states (\\textbf{isomerization})."
   ]
  },
  {
   "cell_type": "markdown",
   "id": "5167f81c",
   "metadata": {},
   "source": [
    "# a)"
   ]
  },
  {
   "cell_type": "markdown",
   "id": "a6c0c0e3",
   "metadata": {},
   "source": [
    "Make a graph of the potential energy function \n",
    "    \\begin{equation*}\n",
    "        \\frac{U}{k_b T} = 12\\left(\\left(\\frac{1}{4}\\frac{x-x_*}{40L}\\right)^4\\ - \\left(\\frac{1}{2}\\frac{x-x_*}{40L}\\right)^2\\right)\n",
    "    \\end{equation*}\n",
    "    where $0\\leq x \\leq 100L$ and $x_* = 50L$. Use this energy landscape to set up a random walk generalizing the one in problem 6.1 as follows:\n",
    "* Use the stepping probabilities\n",
    "\\begin{equation*}\n",
    "    \\mathcal{P}_+ = \\frac{1}{2}\\left(1-\\frac{\\Delta U}{2\\zeta D}\\right)\n",
    "\\end{equation*}\n",
    "where $\\Delta U = L\\frac{dU}{dx}$. Use the Einstein relation \n",
    "\\begin{equation*}\n",
    "    \\zeta D = k_B T\n",
    "\\end{equation*}\n",
    "to simplify the relation. \n",
    "* Implement hard walls at each end as in Problem 6.2, that us at $x=0$, replace the general expression for $\\mathcal{P}_+$ by 1, and at $x=100L$ replace it by 0.\n",
    "* It will be efficient to set up a look-up table: Create an array with all 101 of the $\\mathcal{P}_+$ values, including the two exceptional ones just described. At each step of each simulation,, you can then just look up the Bernoulli trial parameter appropriate to the current position.  "
   ]
  },
  {
   "cell_type": "markdown",
   "id": "cc211ce9",
   "metadata": {},
   "source": [
    "# b)"
   ]
  },
  {
   "cell_type": "markdown",
   "id": "3796a97a",
   "metadata": {},
   "source": [
    "Generate many trajectories, all starting at the left hand potential minimum $x = 10L$. Let each one proceed for 7000 time steps. Some trajectories will cross $x_*$; choose a few such examples and make graphs of position vs time."
   ]
  },
  {
   "cell_type": "code",
   "execution_count": null,
   "id": "f048ffb6",
   "metadata": {},
   "outputs": [],
   "source": []
  }
 ],
 "metadata": {
  "kernelspec": {
   "display_name": "Python 3 (ipykernel)",
   "language": "python",
   "name": "python3"
  },
  "language_info": {
   "codemirror_mode": {
    "name": "ipython",
    "version": 3
   },
   "file_extension": ".py",
   "mimetype": "text/x-python",
   "name": "python",
   "nbconvert_exporter": "python",
   "pygments_lexer": "ipython3",
   "version": "3.8.8"
  }
 },
 "nbformat": 4,
 "nbformat_minor": 5
}
