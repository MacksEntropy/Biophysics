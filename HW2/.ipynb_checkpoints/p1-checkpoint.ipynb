{
 "cells": [
  {
   "cell_type": "code",
   "execution_count": 8,
   "id": "ff29b02b",
   "metadata": {},
   "outputs": [],
   "source": [
    "import numpy as np\n",
    "import matplotlib.pyplot as plt\n",
    "import pylab\n",
    "import random"
   ]
  },
  {
   "cell_type": "markdown",
   "id": "0ba2d274",
   "metadata": {},
   "source": [
    "In this problem, you will perform simulations of two random walkers on a 2-d lattice.  The walkers randomly choose any neighboring site to move to in their next step, simultaneously.  You are free to choose the initial locations of both walkers, but should describe the initial conditions in your solutions.  You should perform $N$ copies of the simulation described, where you are free to choose $N$ so that the statistics of your simulation are ``reasonable'' (and specify $N$ and your reasoning for choosing it in the solutions). "
   ]
  },
  {
   "cell_type": "code",
   "execution_count": 10,
   "id": "77cc0f6b",
   "metadata": {},
   "outputs": [],
   "source": [
    "class RandomWalk():\n",
    "    \n",
    "    def __init__(self, x0, y0, nsims, nsteps):\n",
    "        \n",
    "        self.x0 = x0\n",
    "        self.y0 = y0\n",
    "        self.nsims = nsims\n",
    "        self.nsteps = nsteps\n",
    "    \n",
    "    def preformWalk(self):\n",
    "        \"\"\"\n",
    "        Preform a unbiased random walk on a 2D plane with nsteps, returning the trajectory in a np array\n",
    "        \"\"\"\n",
    "        \n",
    "        x = np.zeros(self.nsteps)\n",
    "        y = np.zeros(self.nsteps)\n",
    "        \n",
    "        for i in range(1, self.nsteps):\n",
    "            val = random.randint(1, 4)\n",
    "            if val == 1:\n",
    "                x[i] = x[i - 1] + 1\n",
    "                y[i] = y[i - 1]\n",
    "            elif val == 2:\n",
    "                x[i] = x[i - 1] - 1\n",
    "                y[i] = y[i - 1]\n",
    "            elif val == 3:\n",
    "                x[i] = x[i - 1]\n",
    "                y[i] = y[i - 1] + 1\n",
    "            else:\n",
    "                x[i] = x[i - 1]\n",
    "                y[i] = y[i - 1] - 1\n",
    "                \n",
    "        return x,y\n",
    "    \n",
    "    def plotTrajectory(self): \n",
    "        xi, yi = self.preformWalk()\n",
    "        pylab.title(\"Random Walk ($n = \" + str(self.nsteps) + \"$ steps)\")\n",
    "        pylab.plot(xi, yi)\n",
    "        pylab.show()\n",
    "        \n",
    "    def calculate_average_position(self):\n",
    "        pass"
   ]
  },
  {
   "cell_type": "code",
   "execution_count": 12,
   "id": "98d78be2",
   "metadata": {},
   "outputs": [
    {
     "data": {
      "image/png": "[encoded data removed]",
      "text/plain": [
       "<Figure size 640x480 with 1 Axes>"
      ]
     },
     "metadata": {},
     "output_type": "display_data"
    }
   ],
   "source": [
    "walker1 = RandomWalk(5,5,1,1000)\n",
    "walker1.plotTrajectory()"
   ]
  },
  {
   "cell_type": "markdown",
   "id": "bceaaac0",
   "metadata": {},
   "source": [
    "# a) "
   ]
  },
  {
   "cell_type": "markdown",
   "id": "40f02875",
   "metadata": {},
   "source": [
    "Defining $\\mathbf{x}_n$ and $\\mathbf{y}_n$ the position of the first and second walker (respectively) after the $n^{th}$ step, plot $\\langle(\\mathbf{x}_n-\\mathbf{x}_0)^2\\rangle$, $\\langle(\\mathbf{y}_n-\\mathbf{y}_0)^2\\rangle$, and $\\langle((\\mathbf{x}_n-\\mathbf{y}_n)-(\\mathbf{x}_0-\\mathbf{y}_0))^2\\rangle$ in the same figure, with axes labeled and standard errors shown.  Comment on the effective diffusion coefficient of these three processes."
   ]
  },
  {
   "cell_type": "markdown",
   "id": "d65eee2d",
   "metadata": {},
   "source": [
    "# b)"
   ]
  },
  {
   "cell_type": "markdown",
   "id": "260d4709",
   "metadata": {},
   "source": [
    "Based on your results in a), do you think that two random walkers will encounter each other (that is, occupy the same location) more often if both move, or if only one moves.  You should {\\it{not}} try to answer this question by simulating more than was done in a), nor should you try to compute additional statistics beyond those computed in a).  Just explain your reasoning."
   ]
  }
 ],
 "metadata": {
  "kernelspec": {
   "display_name": "Python 3 (ipykernel)",
   "language": "python",
   "name": "python3"
  },
  "language_info": {
   "codemirror_mode": {
    "name": "ipython",
    "version": 3
   },
   "file_extension": ".py",
   "mimetype": "text/x-python",
   "name": "python",
   "nbconvert_exporter": "python",
   "pygments_lexer": "ipython3",
   "version": "3.8.8"
  }
 },
 "nbformat": 4,
 "nbformat_minor": 5
}
