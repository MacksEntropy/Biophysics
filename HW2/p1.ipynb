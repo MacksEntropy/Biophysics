{
 "cells": [
  {
   "cell_type": "code",
   "execution_count": 1,
   "id": "91577cd4",
   "metadata": {},
   "outputs": [],
   "source": [
    "import numpy as np\n",
    "import matplotlib.pyplot as plt\n",
    "import pylab\n",
    "import random"
   ]
  },
  {
   "cell_type": "markdown",
   "id": "6ba55467",
   "metadata": {},
   "source": [
    "# Problem 1"
   ]
  },
  {
   "cell_type": "markdown",
   "id": "c204b46c",
   "metadata": {},
   "source": [
    "In this problem, you will perform simulations of two random walkers on a 2-d lattice.  The walkers randomly choose any neighboring site to move to in their next step, simultaneously.  You are free to choose the initial locations of both walkers, but should describe the initial conditions in your solutions.  You should perform $N$ copies of the simulation described, where you are free to choose $N$ so that the statistics of your simulation are ``reasonable'' (and specify $N$ and your reasoning for choosing it in the solutions). "
   ]
  },
  {
   "cell_type": "code",
   "execution_count": 2,
   "id": "4e76cea4",
   "metadata": {},
   "outputs": [],
   "source": [
    "class RandomWalk():\n",
    "    \n",
    "    def __init__(self, x0, y0):\n",
    "        \n",
    "        self.x0 = x0\n",
    "        self.y0 = y0\n",
    "    \n",
    "    def calc_squared_dist(self, x, y):\n",
    "        dx = x - self.x0\n",
    "        dy = y - self.y0\n",
    "        return dx**2 + dy**2\n",
    "    \n",
    "    def preform_walk(self, nsteps, plot = False):\n",
    "        \"\"\"\n",
    "        Preform a unbiased random walk on a 2D plane with nsteps. Returns an array of positions and overall mean position\n",
    "        \"\"\"\n",
    "        \n",
    "        # Initialize system\n",
    "        self.nsteps = nsteps\n",
    "        x = [self.x0]\n",
    "        y = [self.y0]\n",
    "        r2 = [self.calc_squared_dist(x[0],y[0])]\n",
    "        \n",
    "        for i in range(1, self.nsteps):\n",
    "            \n",
    "            # Take a step\n",
    "            val = random.randint(1, 4)\n",
    "            if val == 1:\n",
    "                x.append(x[i - 1] + 1)\n",
    "                y.append(y[i - 1])\n",
    "            elif val == 2:\n",
    "                x.append(x[i - 1] - 1)\n",
    "                y.append(y[i - 1])\n",
    "            elif val == 3:\n",
    "                x.append(x[i - 1])\n",
    "                y.append(y[i - 1] + 1)\n",
    "            else:\n",
    "                x.append(x[i - 1])\n",
    "                y.append(y[i - 1] - 1)\n",
    "    \n",
    "            # Calculate and record squared distance travled\n",
    "            r2.append(self.calc_squared_dist(x[i],y[i]))\n",
    "        \n",
    "        if plot:\n",
    "            pylab.title(f\"Random Walk (n = {self.nsteps} steps)\")\n",
    "            pylab.plot(x, y)\n",
    "            pylab.show()\n",
    "            \n",
    "        return np.arrx, y, r2"
   ]
  },
  {
   "cell_type": "markdown",
   "id": "dcfaa98b",
   "metadata": {},
   "source": [
    "# a) "
   ]
  },
  {
   "cell_type": "markdown",
   "id": "1e31cef1",
   "metadata": {},
   "source": [
    "Defining $\\mathbf{x}_n$ and $\\mathbf{y}_n$ the position of the first and second walker (respectively) after the $n^{th}$ step, plot $\\langle(\\mathbf{x}_n-\\mathbf{x}_0)^2\\rangle$, $\\langle(\\mathbf{y}_n-\\mathbf{y}_0)^2\\rangle$, and $\\langle((\\mathbf{x}_n-\\mathbf{y}_n)-(\\mathbf{x}_0-\\mathbf{y}_0))^2\\rangle$ in the same figure, with axes labeled and standard errors shown.  Comment on the effective diffusion coefficient of these three processes."
   ]
  },
  {
   "cell_type": "code",
   "execution_count": 22,
   "id": "1c08c377",
   "metadata": {
    "scrolled": true
   },
   "outputs": [
    {
     "ename": "TypeError",
     "evalue": "unsupported operand type(s) for -: 'list' and 'list'",
     "output_type": "error",
     "traceback": [
      "\u001b[1;31m---------------------------------------------------------------------------\u001b[0m",
      "\u001b[1;31mTypeError\u001b[0m                                 Traceback (most recent call last)",
      "Cell \u001b[1;32mIn[22], line 14\u001b[0m\n\u001b[0;32m     12\u001b[0m w1_x, w1_y, w1_r2 \u001b[38;5;241m=\u001b[39m walker1\u001b[38;5;241m.\u001b[39mpreform_walk(nsteps)\n\u001b[0;32m     13\u001b[0m w2_x, w2_y, w2_r2 \u001b[38;5;241m=\u001b[39m walker2\u001b[38;5;241m.\u001b[39mpreform_walk(nsteps)\n\u001b[1;32m---> 14\u001b[0m diff_r2 \u001b[38;5;241m=\u001b[39m (\u001b[43mw1_x\u001b[49m\u001b[38;5;241;43m-\u001b[39;49m\u001b[43mw2_x\u001b[49m)\u001b[38;5;241m*\u001b[39m\u001b[38;5;241m*\u001b[39m\u001b[38;5;241m2\u001b[39m \u001b[38;5;241m+\u001b[39m (w1_y \u001b[38;5;241m-\u001b[39m w2_y)\u001b[38;5;241m*\u001b[39m\u001b[38;5;241m*\u001b[39m\u001b[38;5;241m2\u001b[39m\n\u001b[0;32m     15\u001b[0m w1_avgs \u001b[38;5;241m+\u001b[39m\u001b[38;5;241m=\u001b[39m np\u001b[38;5;241m.\u001b[39marray(w1_r2)\u001b[38;5;241m/\u001b[39mi\n\u001b[0;32m     16\u001b[0m w2_avgs \u001b[38;5;241m+\u001b[39m\u001b[38;5;241m=\u001b[39m np\u001b[38;5;241m.\u001b[39marray(w2_r2)\u001b[38;5;241m/\u001b[39mi\n",
      "\u001b[1;31mTypeError\u001b[0m: unsupported operand type(s) for -: 'list' and 'list'"
     ]
    }
   ],
   "source": [
    "# Initialize simulation parameters / structures\n",
    "nsim = 1000\n",
    "nsteps = 500\n",
    "w1_avgs = np.zeros(nsteps)\n",
    "w2_avgs = np.zeros(nsteps)\n",
    "diff_avgs = np.zeros(nsteps)\n",
    "walker1 = RandomWalk(0,0)\n",
    "walker2 = RandomWalk(0,0)\n",
    "\n",
    "# Preform simulation\n",
    "for i in range(1, nsim):\n",
    "    w1_x, w1_y, w1_r2 = walker1.preform_walk(nsteps)\n",
    "    w2_x, w2_y, w2_r2 = walker2.preform_walk(nsteps)\n",
    "    diff_r2 = (w1_x-w2_x)**2 + (w1_y - w2_y)**2\n",
    "    w1_avgs += np.array(w1_r2)/i\n",
    "    w2_avgs += np.array(w2_r2)/i\n",
    "    diff_avgs += np.array(diff_r2)/i\n",
    "\n",
    "# Plots\n",
    "t = np.linspace(0, nsim, nsteps)\n",
    "fig, ax = plt.subplots()\n",
    "ax.plot(t, w1_avgs, label='Walker 1')\n",
    "ax.plot(t, w2_avgs, label='Walker 2')\n",
    "ax.plot(t, diff_avgs, label='Difference')\n",
    "ax.set_xlabel('t')\n",
    "ax.set_ylabel('Average distance')\n",
    "# ax.set_title('Average distance over many ')\n",
    "ax.legend()\n",
    "plt.show()"
   ]
  },
  {
   "cell_type": "code",
   "execution_count": 4,
   "id": "506afef1",
   "metadata": {},
   "outputs": [
    {
     "name": "stdout",
     "output_type": "stream",
     "text": [
      "[1, 4, 3]\n"
     ]
    }
   ],
   "source": [
    "a = [1,2,3]\n",
    "a[i] += 2\n",
    "print(a)"
   ]
  },
  {
   "cell_type": "markdown",
   "id": "bc5bc2c3",
   "metadata": {},
   "source": [
    "# b)"
   ]
  },
  {
   "cell_type": "markdown",
   "id": "b9206a81",
   "metadata": {},
   "source": [
    "Based on your results in a), do you think that two random walkers will encounter each other (that is, occupy the same location) more often if both move, or if only one moves.  You should *not* try to answer this question by simulating more than was done in a), nor should you try to compute additional statistics beyond those computed in a).  Just explain your reasoning."
   ]
  },
  {
   "cell_type": "code",
   "execution_count": null,
   "id": "c9f40b62",
   "metadata": {},
   "outputs": [],
   "source": []
  }
 ],
 "metadata": {
  "kernelspec": {
   "display_name": "Python 3 (ipykernel)",
   "language": "python",
   "name": "python3"
  },
  "language_info": {
   "codemirror_mode": {
    "name": "ipython",
    "version": 3
   },
   "file_extension": ".py",
   "mimetype": "text/x-python",
   "name": "python",
   "nbconvert_exporter": "python",
   "pygments_lexer": "ipython3",
   "version": "3.8.8"
  }
 },
 "nbformat": 4,
 "nbformat_minor": 5
}
