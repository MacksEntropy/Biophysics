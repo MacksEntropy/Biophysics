{
 "cells": [
  {
   "cell_type": "code",
   "execution_count": null,
   "id": "5326395b",
   "metadata": {},
   "outputs": [],
   "source": [
    "import numpy as np\n",
    "import matplotlib.pyplot as plt\n",
    "import pylab\n",
    "import random"
   ]
  },
  {
   "cell_type": "markdown",
   "id": "8dbe00c4",
   "metadata": {},
   "source": [
    "A common model for a two state system is one with a quartic potential. For this problem, use $\\beta U(x)=x^4-x^2$ for the position $x$ (in reduced units).  Each local minimum is a ``well'' in which the particle can be found."
   ]
  },
  {
   "cell_type": "markdown",
   "id": "b32b3914",
   "metadata": {},
   "source": [
    "# a)"
   ]
  },
  {
   "cell_type": "markdown",
   "id": "47e290b9",
   "metadata": {},
   "source": [
    "Plot the potential, and determine the two minima analytically.  What is the barrier height between the two states?  What is the force on a particle in this potential?"
   ]
  },
  {
   "cell_type": "markdown",
   "id": "8707bdd1",
   "metadata": {},
   "source": [
    "# b)"
   ]
  },
  {
   "cell_type": "markdown",
   "id": "f0c82db0",
   "metadata": {},
   "source": [
    "Use a random walk, monte carlo, or overdamped molecular dynamics methods to simulate a single particle in this potential for $10^7$ steps (one long simulation, rather than many short simulations).  You should choose your physical parameters (e.g. step size or diffusion coefficient) such that you see multiple transitions between the two wells, and describe your choices in your solution."
   ]
  },
  {
   "cell_type": "code",
   "execution_count": null,
   "id": "0170dc90",
   "metadata": {},
   "outputs": [],
   "source": []
  }
 ],
 "metadata": {
  "kernelspec": {
   "display_name": "Python 3 (ipykernel)",
   "language": "python",
   "name": "python3"
  },
  "language_info": {
   "codemirror_mode": {
    "name": "ipython",
    "version": 3
   },
   "file_extension": ".py",
   "mimetype": "text/x-python",
   "name": "python",
   "nbconvert_exporter": "python",
   "pygments_lexer": "ipython3",
   "version": "3.8.8"
  }
 },
 "nbformat": 4,
 "nbformat_minor": 5
}
