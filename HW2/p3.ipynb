{
 "cells": [
  {
   "cell_type": "code",
   "execution_count": null,
   "id": "3c373608",
   "metadata": {},
   "outputs": [],
   "source": [
    "import numpy as np\n",
    "import matplotlib.pyplot as plt\n",
    "import pylab\n",
    "import random"
   ]
  },
  {
   "cell_type": "markdown",
   "id": "724df91a",
   "metadata": {},
   "source": [
    "A common model for a two state system is one with a quartic potential. For this problem, use $\\beta U(x)=x^4-x^2$ for the position $x$ (in reduced units).  Each local minimum is a ``well'' in which the particle can be found."
   ]
  },
  {
   "cell_type": "markdown",
   "id": "8baace42",
   "metadata": {},
   "source": [
    "# a)"
   ]
  },
  {
   "cell_type": "markdown",
   "id": "e8ab0bf8",
   "metadata": {},
   "source": [
    "Plot the potential, and determine the two minima analytically.  What is the barrier height between the two states?  What is the force on a particle in this potential?"
   ]
  },
  {
   "cell_type": "markdown",
   "id": "9d531ff6",
   "metadata": {},
   "source": [
    "# b)"
   ]
  },
  {
   "cell_type": "markdown",
   "id": "3500c803",
   "metadata": {},
   "source": [
    "Use a random walk, monte carlo, or overdamped molecular dynamics methods to simulate a single particle in this potential for $10^7$ steps (one long simulation, rather than many short simulations).  You should choose your physical parameters (e.g. step size or diffusion coefficient) such that you see multiple transitions between the two wells, and describe your choices in your solution."
   ]
  },
  {
   "cell_type": "markdown",
   "id": "ddc5ce6e",
   "metadata": {},
   "source": [
    "# c)"
   ]
  },
  {
   "cell_type": "markdown",
   "id": "1c33e886",
   "metadata": {},
   "source": [
    "For your simulation in (b), plot the distribution of positions, $P(x)$.  What is the probability of being found in a well?  Do your results make physical sense?\n",
    "    \\item In class, we predicted $P(x)\\propto e^{-\\beta U(x)}$ at equilibrium.  Plot $\\beta F(x)=-\\log(P(x))$ and compare it to $U(x)$.  {\\em{Hint}}: remember, normalization is arbitrary and may differ between discrete and continuous systems."
   ]
  },
  {
   "cell_type": "markdown",
   "id": "95e70d19",
   "metadata": {},
   "source": [
    "# d)"
   ]
  },
  {
   "cell_type": "markdown",
   "id": "a82506b8",
   "metadata": {},
   "source": [
    "For your simulation in b), what is the average dwell time in each well?"
   ]
  }
 ],
 "metadata": {
  "kernelspec": {
   "display_name": "Python 3 (ipykernel)",
   "language": "python",
   "name": "python3"
  },
  "language_info": {
   "codemirror_mode": {
    "name": "ipython",
    "version": 3
   },
   "file_extension": ".py",
   "mimetype": "text/x-python",
   "name": "python",
   "nbconvert_exporter": "python",
   "pygments_lexer": "ipython3",
   "version": "3.8.8"
  }
 },
 "nbformat": 4,
 "nbformat_minor": 5
}
