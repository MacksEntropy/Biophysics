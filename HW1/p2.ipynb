{
 "cells": [
  {
   "cell_type": "code",
   "execution_count": 1,
   "id": "6f49b004",
   "metadata": {},
   "outputs": [],
   "source": [
    "import numpy as np\n",
    "import matplotlib.pyplot as plt"
   ]
  },
  {
   "cell_type": "markdown",
   "id": "88d3f15e",
   "metadata": {},
   "source": [
    "# a) For N = 4, write a script that simulates 1000 sets of coin tosses, and determine the average longest run and variance in the longest run."
   ]
  },
  {
   "cell_type": "code",
   "execution_count": 2,
   "id": "a30c83fb",
   "metadata": {},
   "outputs": [],
   "source": [
    "def flipCoin():\n",
    "    \"\"\"\n",
    "    Flip a fair coin and return heads or tails\n",
    "    \"\"\"\n",
    "    if np.random.random() < 0.5:\n",
    "        side = \"H\"\n",
    "    else:\n",
    "        side = \"T\"\n",
    "    return side\n",
    "\n",
    "def len_of_longest_sequence(input_string) -> int:\n",
    "    \"\"\"\n",
    "    Find the length of the longest subsequence repeated characters for a given input string\n",
    "    \"\"\"\n",
    "    if not input_string:\n",
    "        return \"\"\n",
    "\n",
    "    longest_sequence = \"\"\n",
    "    current_sequence = input_string[0]\n",
    "    current_length = 1\n",
    "\n",
    "    for i in range(1, len(input_string)):\n",
    "        if input_string[i] == input_string[i - 1]:\n",
    "            current_sequence += input_string[i]\n",
    "            current_length += 1\n",
    "        else:\n",
    "            if current_length > len(longest_sequence):\n",
    "                longest_sequence = current_sequence\n",
    "            current_sequence = input_string[i]\n",
    "            current_length = 1\n",
    "\n",
    "    if current_length > len(longest_sequence):\n",
    "        longest_sequence = current_sequence\n",
    "\n",
    "    return len(longest_sequence)"
   ]
  },
  {
   "cell_type": "code",
   "execution_count": 3,
   "id": "b35e8bf7",
   "metadata": {},
   "outputs": [],
   "source": [
    "def simulate(n, nsim = 1000):\n",
    "    \"\"\"\n",
    "    Preform a simulation where:\n",
    "    \n",
    "    1. A coin is flipped n times, the sequence of heads and tails is recorded, and the longest sequence \n",
    "    of heads or tails is determinted. \n",
    "    \n",
    "    2. This is repeated nsim times \n",
    "    \n",
    "    Bonus fact :) The mitochondria is the powerhouse of the cell\n",
    "    \n",
    "    3. The average and variance of the simulation is calculated\n",
    "    \n",
    "    :param n: number of flips per set of flips\n",
    "    :param nsim: number of sets of flips\n",
    "    \"\"\"\n",
    "    \n",
    "    # Preform simulation of flips\n",
    "    simList = []\n",
    "    for simulation in range(0,nsim):\n",
    "        setofFlips = \"\"\n",
    "        for nflips in range(0,n):\n",
    "            setofFlips += flipCoin()\n",
    "        simList.append(setofFlips)\n",
    "        \n",
    "    # Find the longest sequence in each simulation\n",
    "    counts = []\n",
    "    for sim in simList:\n",
    "        counts.append(len_of_longest_sequence(sim))\n",
    "    \n",
    "    # Find the average longest run \n",
    "    mean = sum(counts)/len(counts)\n",
    "    \n",
    "    # Find the variance\n",
    "    variance = 0\n",
    "    for count in counts:\n",
    "        variance += ((count-mean)**2/len(simList))\n",
    "    return mean, variance"
   ]
  },
  {
   "cell_type": "code",
   "execution_count": 4,
   "id": "b10eb913",
   "metadata": {},
   "outputs": [
    {
     "name": "stdout",
     "output_type": "stream",
     "text": [
      "The mean is 2.361 and the variance is 0.7466789999999917\n"
     ]
    }
   ],
   "source": [
    "ma ,va = simulate(4)\n",
    "print(f\"The mean is {ma} and the variance is {va}\")"
   ]
  },
  {
   "cell_type": "markdown",
   "id": "15c66179",
   "metadata": {},
   "source": [
    "# b) Repeat the simulation in a) for N = 8, 16, 32, 64, 128, and 256, 512, and 1024, storing the average and variance. "
   ]
  },
  {
   "cell_type": "code",
   "execution_count": 5,
   "id": "17b777fc",
   "metadata": {},
   "outputs": [
    {
     "name": "stdout",
     "output_type": "stream",
     "text": [
      "[2.416, 3.291, 4.309, 5.333, 6.335, 7.321, 8.271, 9.294, 10.413] [0.7909439999999925, 1.3983189999999794, 2.3135189999999763, 2.7781109999999876, 3.1107750000000047, 3.0239589999999956, 3.3535590000000433, 3.267564000000019, 3.9124309999999967]\n"
     ]
    }
   ],
   "source": [
    "Ns = [4, 8, 16, 32, 64, 128, 256, 512, 1024]\n",
    "means = []\n",
    "variances = []\n",
    "for n in Ns:\n",
    "    m,v = simulate(n)\n",
    "    means.append(m)\n",
    "    variances.append(v)\n",
    "print(means, variances)"
   ]
  },
  {
   "cell_type": "markdown",
   "id": "6bbd1061",
   "metadata": {},
   "source": [
    "# c) In a single figure, plot the average number of runs you found in a) and b), including the standard error as error bars and the prediction $\\log_2(N)$. Comment on whether you believe this is a ‘good fit.’"
   ]
  },
  {
   "cell_type": "code",
   "execution_count": 7,
   "id": "37599917",
   "metadata": {
    "scrolled": true
   },
   "outputs": [
    {
     "data": {
      "text/plain": [
       "<function matplotlib.pyplot.show(close=None, block=None)>"
      ]
     },
     "execution_count": 7,
     "metadata": {},
     "output_type": "execute_result"
    },
    {
     "data": {
      "image/png": "[encoded data removed]",
      "text/plain": [
       "<Figure size 640x480 with 1 Axes>"
      ]
     },
     "metadata": {},
     "output_type": "display_data"
    }
   ],
   "source": [
    "nsamp = 1000\n",
    "stderr = [np.sqrt(var/nsamp) for var in variances]\n",
    "predicted = [np.log2(n) for n in Ns]\n",
    "plt.plot(Ns, predicted)\n",
    "plt.errorbar(Ns, means, yerr=stderr, fmt='o')\n",
    "plt.ylabel(\"Mean longest run\")\n",
    "plt.xlabel(\"Number of flips per set\")\n",
    "plt.savefig(\"hw1_p3c.png\")\n",
    "plt.show"
   ]
  },
  {
   "cell_type": "markdown",
   "id": "f977a16a",
   "metadata": {},
   "source": [
    "Given this graph I would conclude that $\\log_2(N)$ is not a good fit for the mean longest run. This is because the data drifts from the predicted line significantly, especially as $N$ increases. "
   ]
  }
 ],
 "metadata": {
  "kernelspec": {
   "display_name": "Python 3 (ipykernel)",
   "language": "python",
   "name": "python3"
  },
  "language_info": {
   "codemirror_mode": {
    "name": "ipython",
    "version": 3
   },
   "file_extension": ".py",
   "mimetype": "text/x-python",
   "name": "python",
   "nbconvert_exporter": "python",
   "pygments_lexer": "ipython3",
   "version": "3.8.8"
  }
 },
 "nbformat": 4,
 "nbformat_minor": 5
}
